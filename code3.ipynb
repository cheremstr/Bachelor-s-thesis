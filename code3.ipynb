{
 "cells": [
  {
   "cell_type": "markdown",
   "id": "a1373bc1",
   "metadata": {},
   "source": [
    "### Vector $y_1, y_4, y_7, y_{10}, y_{14}, y_{17}, y_{20}$ decomposition search and calculating the determinant"
   ]
  },
  {
   "cell_type": "code",
   "execution_count": 2,
   "id": "e8800669",
   "metadata": {},
   "outputs": [],
   "source": [
    "import numpy as np"
   ]
  },
  {
   "cell_type": "code",
   "execution_count": 31,
   "id": "e72fa3cd",
   "metadata": {},
   "outputs": [],
   "source": [
    "for x_1 in x_vectors:\n",
    "    for x_2 in x_vectors:\n",
    "        find = False\n",
    "        x_12 = x_1 + x_2\n",
    "        for x_3 in x_vectors:\n",
    "            if vector_in_D_3_7(x_12 - x_3):\n",
    "                find = True\n",
    "                break\n",
    "        if not find:\n",
    "            find"
   ]
  },
  {
   "cell_type": "code",
   "execution_count": 3,
   "id": "cb4f9425",
   "metadata": {},
   "outputs": [],
   "source": [
    "generating_matrix=np.array([\n",
    "[-1, -1,  0,  0,  0,  0,  0,  0,  0,  0,  0,  0,  0,  0,  0,  0,  0,  0, 0,  0,  0,],\n",
    "[ 1, -1,  0,  0,  0,  0,  0,  0,  0,  0,  0,  0,  0,  0,  0,  0,  0,  0, 0,  0,  0,], #y1 replaced with b_1\n",
    "[ 0,  1, -1,  0,  0,  0,  0,  0,  0,  0,  0,  0,  0,  0,  0,  0,  0,  0, 0,  0,  0,],\n",
    "[ 0,  0,  0, -1, -1,  0,  0,  0,  0,  0,  0,  0,  0,  0,  0,  0,  0,  0, 0,  0,  0,],\n",
    "[ 0,  0,  0,  1, -1,  0,  0,  0,  0,  0,  0,  0,  0,  0,  0,  0,  0,  0, 0,  0,  0,], #y4 replaced with b_2\n",
    "[ 0,  0,  0,  0,  1, -1,  0,  0,  0,  0,  0,  0,  0,  0,  0,  0,  0,  0, 0,  0,  0,],\n",
    "[ 0,  0,  0,  0,  0,  0, -1, -1,  0,  0,  0,  0,  0,  0,  0,  0,  0,  0, 0,  0,  0,],\n",
    "[ 0,  0,  0,  0,  0,  0,  1, -1,  0,  0,  0,  0,  0,  0,  0,  0,  0,  0, 0,  0,  0,], #y7 replaced with b_3\n",
    "[ 0,  0,  0,  0,  0,  0,  0,  1, -1,  0,  0,  0,  0,  0,  0,  0,  0,  0, 0,  0,  0,],\n",
    "[ 0,  0,  0,  0,  0,  0,  0,  0,  0, -1, -1,  0,  0,  0,  0,  0,  0,  0, 0,  0,  0,], \n",
    "[ 0,  0,  0,  0,  0,  0,  0,  0,  0,  1, -1,  0,  0,  0,  0,  0,  0,  0, 0,  0,  0,], #y10 replaced with b_4\n",
    "[ 0,  0,  0,  0,  0,  0,  0,  0,  0,  0,  1, -1,  0,  0,  0,  0,  0,  0, 0,  0,  0,],\n",
    "[ 0,  0,  0,  0,  0,  0,  0,  0,  0,  0,  0,  0, -1, -1,  0,  0,  0,  0, 0,  0,  0,],\n",
    "[ 0,  0,  0,  0,  0,  0,  0,  0,  0,  0,  0,  0,  1, -1,  0,  0,  0,  0, 0,  0,  0,],\n",
    "[ 0,  0,  0,  0,  0,  0,  0,  0,  0,  0,  0,  0,  0,  1, -1,  0,  0,  0, 0,  0,  0,], #y14 replaced with a_1\n",
    "[ 0,  0,  0,  0,  0,  0,  0,  0,  0,  0,  0,  0,  0,  0,  0, -1, -1,  0, 0,  0,  0,],\n",
    "[ 0,  0,  0,  0,  0,  0,  0,  0,  0,  0,  0,  0,  0,  0,  0,  1, -1,  0, 0,  0,  0,],\n",
    "[ 0,  0,  0,  0,  0,  0,  0,  0,  0,  0,  0,  0,  0,  0,  0,  0,  1, -1, 0,  0,  0,], #y17 replaced with a_2\n",
    "[ 0,  0,  0,  0,  0,  0,  0,  0,  0,  0,  0,  0,  0,  0,  0,  0,  0,  0, -1, -1, 0,],\n",
    "[ 0,  0,  0,  0,  0,  0,  0,  0,  0,  0,  0,  0,  0,  0,  0,  0,  0,  0, 1, -1,  0,],\n",
    "[ 0,  0,  0,  0,  0,  0,  0,  0,  0,  0,  0,  0,  0,  0,  0,  0,  0,  0, 0,  1, -1,]]) #y20 replaced with a_3\n",
    "\n",
    "b = 1/2\n",
    "\n",
    "new_matrix = np.array([\n",
    "    [-1, -1,  0,  0,  0,  0,  0,  0,  0,  0,  0,  0,  0,  0,  0,  0,  0,  0, 0,  0,  0],\n",
    "    [ 1,  0,  0,  0,  0,  0,  0,  0,  0,  0,  0,  0,  0,  0,  0,  1,  0,  0, 1,  0,  0],\n",
    "    [ 0,  1, -1,  0,  0,  0,  0,  0,  0,  0,  0,  0,  0,  0,  0,  0,  0,  0, 0,  0,  0],\n",
    "    [ 0,  0,  0, -1, -1,  0,  0,  0,  0,  0,  0,  0,  0,  0,  0,  0,  0,  0, 0,  0,  0],\n",
    "    [ 0,  0,  0,  1,  0,  0,  0,  0,  0,  0,  0,  0,  1,  0,  0,  0,  0,  0, 1,  0,  0],\n",
    "    [ 0,  0,  0,  0,  1, -1,  0,  0,  0,  0,  0,  0,  0,  0,  0,  0,  0,  0, 0,  0,  0],\n",
    "    [ 0,  0,  0,  0,  0,  0, -1, -1,  0,  0,  0,  0,  0,  0,  0,  0,  0,  0, 0,  0,  0],\n",
    "    [ 0,  0,  0,  0,  0,  0,  1,  0,  0,  0,  0,  0,  1,  0,  0,  1,  0,  0, 1,  0,  0],\n",
    "    [ 0,  0,  0,  0,  0,  0,  0,  1, -1,  0,  0,  0,  0,  0,  0,  0,  0,  0, 0,  0,  0],\n",
    "    [ 0,  0,  0,  0,  0,  0,  0,  0,  0, -1, -1,  0,  0,  0,  0,  0,  0,  0, 0,  0,  0],\n",
    "    [ 0,  0,  0,  0,  0,  0,  0,  0,  0,  1,  0,  0,  1,  0,  0,  1,  0,  0, 0,  0,  0],\n",
    "    [ 0,  0,  0,  0,  0,  0,  0,  0,  0,  0,  1, -1,  0,  0,  0,  0,  0,  0, 0,  0,  0],\n",
    "    [ 0,  0,  0,  0,  0,  0,  0,  0,  0,  0,  0,  0, -1, -1,  0,  0,  0,  0, 0,  0,  0],\n",
    "    [ 0,  0,  0,  0,  0,  0,  0,  0,  0,  0,  0,  0,  1, -1,  0,  0,  0,  0, 0,  0,  0],\n",
    "    [ b,  b,  b,  0,  0,  0,  0,  0,  0,  b,  b,  b,  b,  b,  b,  1,  1,  1, b,  b,  b],\n",
    "    [ 0,  0,  0,  0,  0,  0,  0,  0,  0,  0,  0,  0,  0,  0,  0, -1, -1,  0, 0,  0,  0],\n",
    "    [ 0,  0,  0,  0,  0,  0,  0,  0,  0,  0,  0,  0,  0,  0,  0,  1, -1,  0, 0,  0,  0],\n",
    "    [ 0,  0,  0,  b,  b,  b,  0,  0,  0,  b,  b,  b,  1,  1,  1,  b,  b,  b, b,  b,  b],\n",
    "    [ 0,  0,  0,  0,  0,  0,  0,  0,  0,  0,  0,  0,  0,  0,  0,  0,  0,  0, -1, -1, 0],\n",
    "    [ 0,  0,  0,  0,  0,  0,  0,  0,  0,  0,  0,  0,  0,  0,  0,  0,  0,  0, 1, -1,  0],\n",
    "    [ 0,  0,  0,  0,  0,  0,  b,  b,  b,  1,  1,  1,  b,  b,  b,  b,  b,  b, b,  b,  b]\n",
    "])\n",
    "\n",
    "deleted_vectors = np.array([\n",
    "    [ 1, -1,  0,  0,  0,  0,  0,  0,  0,  0,  0,  0,  0,  0,  0,  0,  0,  0, 0,  0,  0,], #y1\n",
    "    [ 0,  0,  0,  1, -1,  0,  0,  0,  0,  0,  0,  0,  0,  0,  0,  0,  0,  0, 0,  0,  0,], #y4\n",
    "    [ 0,  0,  0,  0,  0,  0,  1, -1,  0,  0,  0,  0,  0,  0,  0,  0,  0,  0, 0,  0,  0,], #y7\n",
    "    [ 0,  0,  0,  0,  0,  0,  0,  0,  0,  1, -1,  0,  0,  0,  0,  0,  0,  0, 0,  0,  0,], #y10\n",
    "    [ 0,  0,  0,  0,  0,  0,  0,  0,  0,  0,  0,  0,  0,  1, -1,  0,  0,  0, 0,  0,  0,], #y14\n",
    "    [ 0,  0,  0,  0,  0,  0,  0,  0,  0,  0,  0,  0,  0,  0,  0,  0,  1, -1, 0,  0,  0,], #y17\n",
    "    [ 0,  0,  0,  0,  0,  0,  0,  0,  0,  0,  0,  0,  0,  0,  0,  0,  0,  0, 0,  1, -1,] #y20\n",
    "])"
   ]
  },
  {
   "cell_type": "code",
   "execution_count": 38,
   "id": "29d36d1a",
   "metadata": {},
   "outputs": [
    {
     "name": "stdout",
     "output_type": "stream",
     "text": [
      "X coefficients: [ 1  2  0  0  0  0  0  0  0  0  0  0  0  0  0  1 -1  0  1 -1  0]\n",
      "X coefficients: [ 0  0  0  1  2  0  0  0  0  0  0  0  1 -1  0  0  0  0  1 -1  0]\n",
      "X coefficients: [ 0  0  0  0  0  0  1  2  0  0  0  0  1 -1  0  1 -1  0  1 -1  0]\n",
      "X coefficients: [ 0  0  0  0  0  0  0  0  0  1  2  0  1 -1  0  1 -1  0  0  0  0]\n",
      "X coefficients: [ 0  0  0 -2 -1 -1  2  1  1  2  1  1 -1 -1  0  1 -1 -2  0  0  2]\n",
      "X coefficients: [-2 -1 -1  0  0  0  2  1  1  2  1  1  1 -1 -2 -1 -1  0  0  0  2]\n",
      "X coefficients: [ 2  1  1  2  1  1 -6 -3 -3 -8 -4 -4 -3  3  2 -3  3  2 -2  0 -6]\n"
     ]
    }
   ],
   "source": [
    "from scipy.linalg import lstsq\n",
    "for vector in deleted_vectors:\n",
    "    x, residuals, rank, s = lstsq(new_matrix.T, vector)\n",
    "\n",
    "    if np.allclose(x, np.round(x)):\n",
    "        x_rounded = np.round(x).astype(int)\n",
    "        print(\"X coefficients:\", x_rounded)\n",
    "    else:\n",
    "        print(\"There is no integer solution for vector in terms of vectors new_matrix\")"
   ]
  },
  {
   "cell_type": "code",
   "execution_count": 5,
   "id": "0939362a",
   "metadata": {},
   "outputs": [
    {
     "data": {
      "text/plain": [
       "-0.9999999999999998"
      ]
     },
     "execution_count": 5,
     "metadata": {},
     "output_type": "execute_result"
    }
   ],
   "source": [
    "determinant = np.linalg.det(new_matrix)\n",
    "determinant"
   ]
  },
  {
   "cell_type": "code",
   "execution_count": null,
   "id": "bd41bf5f",
   "metadata": {},
   "outputs": [],
   "source": []
  }
 ],
 "metadata": {
  "kernelspec": {
   "display_name": "Python 3",
   "language": "python",
   "name": "python3"
  },
  "language_info": {
   "codemirror_mode": {
    "name": "ipython",
    "version": 3
   },
   "file_extension": ".py",
   "mimetype": "text/x-python",
   "name": "python",
   "nbconvert_exporter": "python",
   "pygments_lexer": "ipython3",
   "version": "3.7.5"
  }
 },
 "nbformat": 4,
 "nbformat_minor": 5
}
