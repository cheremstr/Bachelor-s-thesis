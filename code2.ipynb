{
 "cells": [
  {
   "cell_type": "markdown",
   "id": "5091b492",
   "metadata": {},
   "source": [
    "### The code below verifies the following statement\n",
    "\n",
    "Consider $v_i \\in D_3^7 + x_i$ and $v_j \\in D_3^7 + x_j$. Note $v_i + v_j$ represented as sum of vector from $D_3^7$ and vector from the list above"
   ]
  },
  {
   "cell_type": "code",
   "execution_count": 2,
   "id": "00101c9f",
   "metadata": {},
   "outputs": [],
   "source": [
    "import numpy as np"
   ]
  },
  {
   "cell_type": "code",
   "execution_count": 3,
   "id": "c3129b6e",
   "metadata": {},
   "outputs": [],
   "source": [
    "x_vectors = np.array([\n",
    "    [0, 0, 0, 0, 0, 0, 0, 0, 0, 0, 0, 0, 0, 0, 0, 0, 0, 0, 0, 0, 0],\n",
    "    [0, 0, 0, 0, 0, 0, 0, 0, 0, 1, 0, 0, 1, 0, 0, 1, 0, 0, 0, 0, 0],\n",
    "    [0, 0, 0, 0, 0, 0, 1, 0, 0, 0, 0, 0, 1, 0, 0, 1, 0, 0, 1, 0, 0],\n",
    "    [0, 0, 0, 0, 0, 0, 1, 0, 0, 1, 0, 0, 0, 0, 0, 0, 0, 0, 1, 0, 0],\n",
    "    [0, 0, 0, 1, 0, 0, 0, 0, 0, 0, 0, 0, 1, 0, 0, 0, 0, 0, 1, 0, 0],\n",
    "    [0, 0, 0, 1, 0, 0, 0, 0, 0, 1, 0, 0, 0, 0, 0, 1, 0, 0, 1, 0, 0],\n",
    "    [0, 0, 0, 1, 0, 0, 1, 0, 0, 0, 0, 0, 0, 0, 0, 1, 0, 0, 0, 0, 0],\n",
    "    [0, 0, 0, 1, 0, 0, 1, 0, 0, 1, 0, 0, 1, 0, 0, 0, 0, 0, 0, 0, 0],\n",
    "    [1, 0, 0, 0, 0, 0, 0, 0, 0, 0, 0, 0, 0, 0, 0, 1, 0, 0, 1, 0, 0],\n",
    "    [1, 0, 0, 0, 0, 0, 0, 0, 0, 1, 0, 0, 1, 0, 0, 0, 0, 0, 1, 0, 0],\n",
    "    [1, 0, 0, 0, 0, 0, 1, 0, 0, 0, 0, 0, 1, 0, 0, 0, 0, 0, 0, 0, 0],\n",
    "    [1, 0, 0, 0, 0, 0, 1, 0, 0, 1, 0, 0, 0, 0, 0, 1, 0, 0, 0, 0, 0],\n",
    "    [1, 0, 0, 1, 0, 0, 0, 0, 0, 0, 0, 0, 1, 0, 0, 1, 0, 0, 0, 0, 0],\n",
    "    [1, 0, 0, 1, 0, 0, 0, 0, 0, 1, 0, 0, 0, 0, 0, 0, 0, 0, 0, 0, 0],\n",
    "    [1, 0, 0, 1, 0, 0, 1, 0, 0, 0, 0, 0, 0, 0, 0, 0, 0, 0, 1, 0, 0],\n",
    "    [1, 0, 0, 1, 0, 0, 1, 0, 0, 1, 0, 0, 1, 0, 0, 1, 0, 0, 1, 0, 0]\n",
    "])\n",
    "\n",
    "def vector_in_D_3_7(vector):\n",
    "    for i in range(0, 21, 3):\n",
    "        if (vector[i] + vector[i + 1] + vector[i + 2]) % 2 != 0:\n",
    "            return False\n",
    "    return True\n"
   ]
  },
  {
   "cell_type": "code",
   "execution_count": 31,
   "id": "a8a4fccd",
   "metadata": {},
   "outputs": [],
   "source": [
    "for x_1 in x_vectors:\n",
    "    for x_2 in x_vectors:\n",
    "        find = False\n",
    "        x_12 = x_1 + x_2\n",
    "        for x_3 in x_vectors:\n",
    "            if vector_in_D_3_7(x_12 - x_3):\n",
    "                find = True\n",
    "                break\n",
    "        if not find:\n",
    "            find"
   ]
  },
  {
   "cell_type": "code",
   "execution_count": 5,
   "id": "a8879169",
   "metadata": {},
   "outputs": [],
   "source": [
    "B = np.array([\n",
    "    [ 1,  0,  0,  0,  0,  0,  0,  0,  0,  0,  0,  0,  0,  0,  0,  1,  0,  0, 1,  0,  0], #b1\n",
    "    [ 0,  0,  0,  1,  0,  0,  0,  0,  0,  0,  0,  0,  1,  0,  0,  0,  0,  0, 1,  0,  0], #b2\n",
    "    [ 0,  0,  0,  0,  0,  0,  1,  0,  0,  0,  0,  0,  1,  0,  0,  1,  0,  0, 1,  0,  0], #b3\n",
    "    [ 0,  0,  0,  0,  0,  0,  0,  0,  0,  1,  0,  0,  1,  0,  0,  1,  0,  0, 0,  0,  0], #b4\n",
    "])"
   ]
  },
  {
   "cell_type": "code",
   "execution_count": 17,
   "id": "2d103ca4",
   "metadata": {},
   "outputs": [
    {
     "name": "stdout",
     "output_type": "stream",
     "text": [
      "True\n",
      "True\n",
      "True\n",
      "True\n",
      "True\n",
      "True\n",
      "True\n",
      "True\n",
      "True\n",
      "True\n",
      "True\n",
      "True\n",
      "True\n",
      "True\n",
      "True\n",
      "True\n"
     ]
    }
   ],
   "source": [
    "import itertools\n",
    "sequences = [ list(i) for i in  itertools.product([0, 1], repeat=4)]\n",
    "\n",
    "for vector in x_vectors:\n",
    "    find = False\n",
    "    for s in sequences:\n",
    "        if vector_in_D_3_7(vector - (B[0]*s[0] + B[1]*s[1] + B[2]*s[2] + B[3]*s[3])):\n",
    "            find = True\n",
    "    print(find)"
   ]
  },
  {
   "cell_type": "code",
   "execution_count": null,
   "id": "2e547cb9",
   "metadata": {},
   "outputs": [],
   "source": []
  }
 ],
 "metadata": {
  "kernelspec": {
   "display_name": "Python 3",
   "language": "python",
   "name": "python3"
  },
  "language_info": {
   "codemirror_mode": {
    "name": "ipython",
    "version": 3
   },
   "file_extension": ".py",
   "mimetype": "text/x-python",
   "name": "python",
   "nbconvert_exporter": "python",
   "pygments_lexer": "ipython3",
   "version": "3.7.5"
  }
 },
 "nbformat": 4,
 "nbformat_minor": 5
}
